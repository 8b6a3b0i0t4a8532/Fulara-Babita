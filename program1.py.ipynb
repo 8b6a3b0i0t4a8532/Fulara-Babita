{
 "cells": [
  {
   "cell_type": "code",
   "execution_count": 1,
   "id": "5e6faf98",
   "metadata": {},
   "outputs": [
    {
     "name": "stdout",
     "output_type": "stream",
     "text": [
      "enter data:456\n",
      "int\n"
     ]
    }
   ],
   "source": []
  },
  {
   "cell_type": "code",
   "execution_count": null,
   "id": "3a863d13",
   "metadata": {},
   "outputs": [],
   "source": [
    "# Write a program to determine the type of input uing match statement.\n",
    "data= eval (input (\"enter data:\"))\n",
    "match data:\n",
    "    case bool():\n",
    "        print(\"boolean\")\n",
    "    case int():\n",
    "        print(\"int\") \n",
    "    case float():\n",
    "        print(\"float\")\n",
    "    case str():\n",
    "        print(\"str\")\n",
    "    case list():\n",
    "        print(\"list\")\n",
    "    case dict():\n",
    "        print(\"dict\")\n",
    "    case set():\n",
    "        print(\"set\")\n",
    "    case tuple():\n",
    "        print(\"tuple\")\n",
    "    case none():\n",
    "        print(\"none\")\n",
    "        "
   ]
  }
 ],
 "metadata": {
  "kernelspec": {
   "display_name": "Python 3 (ipykernel)",
   "language": "python",
   "name": "python3"
  },
  "language_info": {
   "codemirror_mode": {
    "name": "ipython",
    "version": 3
   },
   "file_extension": ".py",
   "mimetype": "text/x-python",
   "name": "python",
   "nbconvert_exporter": "python",
   "pygments_lexer": "ipython3",
   "version": "3.11.5"
  }
 },
 "nbformat": 4,
 "nbformat_minor": 5
}
